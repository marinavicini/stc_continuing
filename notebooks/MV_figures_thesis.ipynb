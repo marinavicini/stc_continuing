{
 "cells": [
  {
   "cell_type": "code",
   "execution_count": 2,
   "metadata": {},
   "outputs": [
    {
     "name": "stderr",
     "output_type": "stream",
     "text": [
      "/mnt/c/Users/vicin/Desktop/DSSG/Project/stc_continuing/src/stc_unicef_cpi/features/autoencoder_features.py:21: UserWarning: Necessary modules for autoencoder features not found - assumed not desired\n",
      "  warnings.warn(\n"
     ]
    }
   ],
   "source": [
    "import pandas as pd\n",
    "import h3.api.numpy_int as h3\n",
    "\n",
    "import matplotlib.pyplot as plt\n",
    "import cartopy.io.shapereader as shpreader\n",
    "import geopandas as gpd\n",
    "from shapely.geometry import Polygon, Point\n",
    "import seaborn as sns\n",
    "import re\n",
    "\n",
    "import stc_unicef_cpi.data.get_satellite_data as ge\n",
    "import stc_unicef_cpi.data.make_dataset as md\n",
    "import stc_unicef_cpi.utils.general as g\n",
    "import stc_unicef_cpi.utils.constants as c\n",
    "\n",
    "import stc_unicef_cpi.utils.geospatial as geo\n",
    "import stc_unicef_cpi.utils.clean_text as ct"
   ]
  },
  {
   "cell_type": "code",
   "execution_count": 3,
   "metadata": {},
   "outputs": [],
   "source": [
    "read_path = '/mnt/c/Users/vicin/Desktop/DSSG/Project/stc_continuing/data'"
   ]
  },
  {
   "cell_type": "code",
   "execution_count": null,
   "metadata": {},
   "outputs": [
    {
     "name": "stderr",
     "output_type": "stream",
     "text": [
      "/tmp/ipykernel_354/2679583450.py:1: DtypeWarning: Columns (23) have mixed types. Specify dtype option on import or set low_memory=False.\n",
      "  raw = pd.read_csv(read_path + '/raw/childpoverty_microdata_gps_21jun22.csv')\n"
     ]
    }
   ],
   "source": [
    "raw = pd.read_csv(read_path + '/raw/childpoverty_microdata_gps_21jun22.csv')"
   ]
  },
  {
   "cell_type": "code",
   "execution_count": 4,
   "metadata": {},
   "outputs": [
    {
     "name": "stderr",
     "output_type": "stream",
     "text": [
      "/tmp/ipykernel_298/3579100830.py:1: DtypeWarning: Columns (154) have mixed types. Specify dtype option on import or set low_memory=False.\n",
      "  hexes_dhs = pd.read_csv(read_path + '/processed/20221030_hexes_dhs.csv', dtype={'hex_code':int})\n"
     ]
    },
    {
     "data": {
      "text/plain": [
       "(150271, 166)"
      ]
     },
     "execution_count": 4,
     "metadata": {},
     "output_type": "execute_result"
    }
   ],
   "source": [
    "hexes_dhs = pd.read_csv(read_path + '/processed/20221030_hexes_dhs.csv', dtype={'hex_code':int})\n",
    "hexes_dhs.shape"
   ]
  },
  {
   "cell_type": "code",
   "execution_count": 5,
   "metadata": {},
   "outputs": [],
   "source": [
    "pd.set_option(\"display.max_columns\", 200)"
   ]
  },
  {
   "cell_type": "markdown",
   "metadata": {},
   "source": [
    "# Add hexcode to raw"
   ]
  },
  {
   "cell_type": "code",
   "execution_count": 85,
   "metadata": {},
   "outputs": [
    {
     "data": {
      "text/plain": [
       "(2369393, 26)"
      ]
     },
     "execution_count": 85,
     "metadata": {},
     "output_type": "execute_result"
    }
   ],
   "source": [
    "raw.dropna(subset=['LATNUM'], inplace=True)\n",
    "raw.shape"
   ]
  },
  {
   "cell_type": "code",
   "execution_count": 86,
   "metadata": {},
   "outputs": [
    {
     "data": {
      "application/vnd.jupyter.widget-view+json": {
       "model_id": "e4635c961e2547eb891dd5c058be919f",
       "version_major": 2,
       "version_minor": 0
      },
      "text/plain": [
       "Dask Apply:   0%|          | 0/16 [00:00<?, ?it/s]"
      ]
     },
     "metadata": {},
     "output_type": "display_data"
    }
   ],
   "source": [
    "raw = geo.get_hex_code(raw, 'LATNUM', 'LONGNUM', 7)"
   ]
  },
  {
   "cell_type": "code",
   "execution_count": 87,
   "metadata": {},
   "outputs": [],
   "source": [
    "raw['dep_2_or_more_sev'] = raw['sumpoor_sev']>1\n",
    "raw['dep_3_or_more_sev'] = raw['sumpoor_sev']>2\n",
    "raw['dep_4_or_more_sev'] = raw['sumpoor_sev']>3"
   ]
  },
  {
   "cell_type": "code",
   "execution_count": 88,
   "metadata": {},
   "outputs": [],
   "source": [
    "dimensions = ['sumpoor_sev', 'dep_housing_sev', 'dep_water_sev',\n",
    "       'dep_sanitation_sev', 'dep_nutrition_sev', 'dep_health_sev',\n",
    "       'dep_education_sev', 'deprived_sev',\n",
    "       'dep_2_or_more_sev', 'dep_3_or_more_sev', 'dep_4_or_more_sev']"
   ]
  },
  {
   "cell_type": "code",
   "execution_count": 89,
   "metadata": {},
   "outputs": [],
   "source": [
    "dimensions_count = [re.sub('sev', 'count', dep) for dep in dimensions]\n",
    "dic_rename = dict(zip(dimensions, dimensions_count))"
   ]
  },
  {
   "cell_type": "code",
   "execution_count": 90,
   "metadata": {},
   "outputs": [],
   "source": [
    "grouped_count = raw.groupby('hex_code', as_index=False)[dimensions].agg('count')\n",
    "grouped_count.rename(columns= dic_rename, inplace=True)\n"
   ]
  },
  {
   "cell_type": "code",
   "execution_count": 93,
   "metadata": {},
   "outputs": [
    {
     "data": {
      "text/plain": [
       "(150271, 166)"
      ]
     },
     "execution_count": 93,
     "metadata": {},
     "output_type": "execute_result"
    }
   ],
   "source": [
    "hexes_dhs = pd.merge(hexes_dhs, grouped_count, how='left', on='hex_code')\n",
    "hexes_dhs.shape"
   ]
  },
  {
   "cell_type": "code",
   "execution_count": 94,
   "metadata": {},
   "outputs": [
    {
     "data": {
      "text/html": [
       "<div>\n",
       "<style scoped>\n",
       "    .dataframe tbody tr th:only-of-type {\n",
       "        vertical-align: middle;\n",
       "    }\n",
       "\n",
       "    .dataframe tbody tr th {\n",
       "        vertical-align: top;\n",
       "    }\n",
       "\n",
       "    .dataframe thead th {\n",
       "        text-align: right;\n",
       "    }\n",
       "</style>\n",
       "<table border=\"1\" class=\"dataframe\">\n",
       "  <thead>\n",
       "    <tr style=\"text-align: right;\">\n",
       "      <th></th>\n",
       "      <th>hex_code</th>\n",
       "      <th>name_commuting</th>\n",
       "      <th>win_population_commuting</th>\n",
       "      <th>win_roads_km_commuting</th>\n",
       "      <th>area_commuting</th>\n",
       "      <th>n_conflicts</th>\n",
       "      <th>geometry</th>\n",
       "      <th>length_km</th>\n",
       "      <th>area_km2</th>\n",
       "      <th>road_density</th>\n",
       "      <th>avg_d_kbps</th>\n",
       "      <th>avg_u_kbps</th>\n",
       "      <th>GSM</th>\n",
       "      <th>LTE</th>\n",
       "      <th>UMTS</th>\n",
       "      <th>avg_signal</th>\n",
       "      <th>elevation</th>\n",
       "      <th>evapotrans</th>\n",
       "      <th>ndvi</th>\n",
       "      <th>ndwi</th>\n",
       "      <th>avg_rad</th>\n",
       "      <th>cf_cvg</th>\n",
       "      <th>pdsi</th>\n",
       "      <th>Optical_Depth_047</th>\n",
       "      <th>Optical_Depth_055</th>\n",
       "      <th>precimean</th>\n",
       "      <th>precistd</th>\n",
       "      <th>slope</th>\n",
       "      <th>2019gdp</th>\n",
       "      <th>africa</th>\n",
       "      <th>ec2019</th>\n",
       "      <th>GDP_PPP_1990</th>\n",
       "      <th>GDP_PPP_2000</th>\n",
       "      <th>GDP_PPP_2015</th>\n",
       "      <th>child_pop</th>\n",
       "      <th>rwi</th>\n",
       "      <th>rwi_error</th>\n",
       "      <th>survey</th>\n",
       "      <th>year</th>\n",
       "      <th>round</th>\n",
       "      <th>cluster</th>\n",
       "      <th>hhid</th>\n",
       "      <th>indid</th>\n",
       "      <th>location</th>\n",
       "      <th>sex</th>\n",
       "      <th>wealth</th>\n",
       "      <th>wealthscore</th>\n",
       "      <th>age</th>\n",
       "      <th>hhweight</th>\n",
       "      <th>sumpoor_sev</th>\n",
       "      <th>dep_housing_sev</th>\n",
       "      <th>dep_water_sev</th>\n",
       "      <th>dep_sanitation_sev</th>\n",
       "      <th>dep_nutrition_sev</th>\n",
       "      <th>dep_health_sev</th>\n",
       "      <th>dep_education_sev</th>\n",
       "      <th>deprived_sev</th>\n",
       "      <th>region</th>\n",
       "      <th>region2</th>\n",
       "      <th>latnum</th>\n",
       "      <th>longnum</th>\n",
       "      <th>dep_2_or_more_sev</th>\n",
       "      <th>dep_3_or_more_sev</th>\n",
       "      <th>dep_4_or_more_sev</th>\n",
       "      <th>hex_centroid</th>\n",
       "      <th>year_mean_neigh</th>\n",
       "      <th>round_mean_neigh</th>\n",
       "      <th>cluster_mean_neigh</th>\n",
       "      <th>hhid_mean_neigh</th>\n",
       "      <th>indid_mean_neigh</th>\n",
       "      <th>location_mean_neigh</th>\n",
       "      <th>sex_mean_neigh</th>\n",
       "      <th>wealth_mean_neigh</th>\n",
       "      <th>wealthscore_mean_neigh</th>\n",
       "      <th>age_mean_neigh</th>\n",
       "      <th>hhweight_mean_neigh</th>\n",
       "      <th>sumpoor_prev_neigh</th>\n",
       "      <th>sumpoor_count_neigh</th>\n",
       "      <th>housing_prev_neigh</th>\n",
       "      <th>housing_count_neigh</th>\n",
       "      <th>water_prev_neigh</th>\n",
       "      <th>water_count_neigh</th>\n",
       "      <th>sanitation_prev_neigh</th>\n",
       "      <th>sanitation_count_neigh</th>\n",
       "      <th>nutrition_prev_neigh</th>\n",
       "      <th>nutrition_count_neigh</th>\n",
       "      <th>health_prev_neigh</th>\n",
       "      <th>health_count_neigh</th>\n",
       "      <th>education_prev_neigh</th>\n",
       "      <th>education_count_neigh</th>\n",
       "      <th>deprived_sev_mean_neigh</th>\n",
       "      <th>deprived_sev_count_neigh</th>\n",
       "      <th>region_mean_neigh</th>\n",
       "      <th>region2_mean_neigh</th>\n",
       "      <th>latnum_mean_neigh</th>\n",
       "      <th>longnum_mean_neigh</th>\n",
       "      <th>2_or_more_prev_neigh</th>\n",
       "      <th>2_or_more_count_neigh</th>\n",
       "      <th>3_or_more_prev_neigh</th>\n",
       "      <th>3_or_more_count_neigh</th>\n",
       "      <th>4_or_more_prev_neigh</th>\n",
       "      <th>4_or_more_count_neigh</th>\n",
       "      <th>precipiacc</th>\n",
       "      <th>cnfd</th>\n",
       "      <th>accessibility</th>\n",
       "      <th>accessibility_walking_only</th>\n",
       "      <th>population</th>\n",
       "      <th>M_0</th>\n",
       "      <th>M_1</th>\n",
       "      <th>M_5</th>\n",
       "      <th>M_10</th>\n",
       "      <th>M_15</th>\n",
       "      <th>M_30</th>\n",
       "      <th>M_20</th>\n",
       "      <th>M_25</th>\n",
       "      <th>M_35</th>\n",
       "      <th>M_40</th>\n",
       "      <th>M_45</th>\n",
       "      <th>M_50</th>\n",
       "      <th>M_55</th>\n",
       "      <th>M_60</th>\n",
       "      <th>M_70</th>\n",
       "      <th>M_75</th>\n",
       "      <th>M_65</th>\n",
       "      <th>M_80</th>\n",
       "      <th>F_0</th>\n",
       "      <th>F_1</th>\n",
       "      <th>F_5</th>\n",
       "      <th>F_10</th>\n",
       "      <th>F_15</th>\n",
       "      <th>F_20</th>\n",
       "      <th>F_25</th>\n",
       "      <th>F_30</th>\n",
       "      <th>F_35</th>\n",
       "      <th>F_40</th>\n",
       "      <th>F_45</th>\n",
       "      <th>F_60</th>\n",
       "      <th>F_50</th>\n",
       "      <th>F_55</th>\n",
       "      <th>F_65</th>\n",
       "      <th>F_70</th>\n",
       "      <th>F_75</th>\n",
       "      <th>F_80</th>\n",
       "      <th>country_code</th>\n",
       "      <th>country</th>\n",
       "      <th>NR</th>\n",
       "      <th>CDMA</th>\n",
       "      <th>hex_code_str</th>\n",
       "      <th>water_surface</th>\n",
       "      <th>no_built</th>\n",
       "      <th>build_2000_2014</th>\n",
       "      <th>build_1990_2000</th>\n",
       "      <th>build_1975_1990</th>\n",
       "      <th>build_prior_1975</th>\n",
       "      <th>largest</th>\n",
       "      <th>sumpoor_count</th>\n",
       "      <th>dep_housing_count</th>\n",
       "      <th>dep_water_count</th>\n",
       "      <th>dep_sanitation_count</th>\n",
       "      <th>dep_nutrition_count</th>\n",
       "      <th>dep_health_count</th>\n",
       "      <th>dep_education_count</th>\n",
       "      <th>deprived_count</th>\n",
       "      <th>dep_2_or_more_count</th>\n",
       "      <th>dep_3_or_more_count</th>\n",
       "      <th>dep_4_or_more_count</th>\n",
       "    </tr>\n",
       "  </thead>\n",
       "  <tbody>\n",
       "    <tr>\n",
       "      <th>0</th>\n",
       "      <td>610276395859312639</td>\n",
       "      <td>cabinda</td>\n",
       "      <td>1.328792e+06</td>\n",
       "      <td>18139.152803</td>\n",
       "      <td>9605.344439</td>\n",
       "      <td>0.0</td>\n",
       "      <td>((12.732904100477812, -4.623059167412168), (12...</td>\n",
       "      <td>10.689607</td>\n",
       "      <td>5.311200</td>\n",
       "      <td>2.012654</td>\n",
       "      <td>NaN</td>\n",
       "      <td>NaN</td>\n",
       "      <td>0.0</td>\n",
       "      <td>0.0</td>\n",
       "      <td>0.0</td>\n",
       "      <td>NaN</td>\n",
       "      <td>211.45454</td>\n",
       "      <td>727.532504</td>\n",
       "      <td>0.343543</td>\n",
       "      <td>0.282376</td>\n",
       "      <td>0.157719</td>\n",
       "      <td>2.329546</td>\n",
       "      <td>1382.3182</td>\n",
       "      <td>382.359320</td>\n",
       "      <td>274.391760</td>\n",
       "      <td>0.127455</td>\n",
       "      <td>0.148234</td>\n",
       "      <td>5.437882</td>\n",
       "      <td>NaN</td>\n",
       "      <td>0.001981</td>\n",
       "      <td>NaN</td>\n",
       "      <td>NaN</td>\n",
       "      <td>NaN</td>\n",
       "      <td>NaN</td>\n",
       "      <td>6.167462</td>\n",
       "      <td>-0.336534</td>\n",
       "      <td>0.228155</td>\n",
       "      <td>NaN</td>\n",
       "      <td>NaN</td>\n",
       "      <td>NaN</td>\n",
       "      <td>NaN</td>\n",
       "      <td>NaN</td>\n",
       "      <td>NaN</td>\n",
       "      <td>NaN</td>\n",
       "      <td>NaN</td>\n",
       "      <td>NaN</td>\n",
       "      <td>NaN</td>\n",
       "      <td>NaN</td>\n",
       "      <td>NaN</td>\n",
       "      <td>NaN</td>\n",
       "      <td>NaN</td>\n",
       "      <td>NaN</td>\n",
       "      <td>NaN</td>\n",
       "      <td>NaN</td>\n",
       "      <td>NaN</td>\n",
       "      <td>NaN</td>\n",
       "      <td>NaN</td>\n",
       "      <td>NaN</td>\n",
       "      <td>NaN</td>\n",
       "      <td>NaN</td>\n",
       "      <td>NaN</td>\n",
       "      <td>NaN</td>\n",
       "      <td>NaN</td>\n",
       "      <td>NaN</td>\n",
       "      <td>(-4.615699589011692, 12.722683696731998)</td>\n",
       "      <td>2015.0</td>\n",
       "      <td>71.0</td>\n",
       "      <td>77.000000</td>\n",
       "      <td>13.196721</td>\n",
       "      <td>4.360656</td>\n",
       "      <td>2.0</td>\n",
       "      <td>1.557377</td>\n",
       "      <td>2.934426</td>\n",
       "      <td>25245.852459</td>\n",
       "      <td>6.770492</td>\n",
       "      <td>0.392661</td>\n",
       "      <td>1.327869</td>\n",
       "      <td>61.0</td>\n",
       "      <td>0.114754</td>\n",
       "      <td>61.0</td>\n",
       "      <td>0.770492</td>\n",
       "      <td>61.0</td>\n",
       "      <td>0.409836</td>\n",
       "      <td>61.0</td>\n",
       "      <td>0.000000</td>\n",
       "      <td>12.0</td>\n",
       "      <td>0.000000</td>\n",
       "      <td>15.0</td>\n",
       "      <td>0.054054</td>\n",
       "      <td>37.0</td>\n",
       "      <td>0.770492</td>\n",
       "      <td>61.0</td>\n",
       "      <td>1.0</td>\n",
       "      <td>NaN</td>\n",
       "      <td>-4.653519</td>\n",
       "      <td>12.731428</td>\n",
       "      <td>0.475410</td>\n",
       "      <td>61.0</td>\n",
       "      <td>0.081967</td>\n",
       "      <td>61.0</td>\n",
       "      <td>0.0</td>\n",
       "      <td>61.0</td>\n",
       "      <td>2987.668259</td>\n",
       "      <td>0.000000</td>\n",
       "      <td>11.793229</td>\n",
       "      <td>71.0</td>\n",
       "      <td>12.868066</td>\n",
       "      <td>0.188045</td>\n",
       "      <td>0.789752</td>\n",
       "      <td>0.823278</td>\n",
       "      <td>0.797216</td>\n",
       "      <td>0.688460</td>\n",
       "      <td>0.413089</td>\n",
       "      <td>0.560355</td>\n",
       "      <td>0.533317</td>\n",
       "      <td>0.298992</td>\n",
       "      <td>0.242842</td>\n",
       "      <td>0.194163</td>\n",
       "      <td>0.193840</td>\n",
       "      <td>0.205593</td>\n",
       "      <td>0.102158</td>\n",
       "      <td>0.040404</td>\n",
       "      <td>0.022762</td>\n",
       "      <td>0.092256</td>\n",
       "      <td>0.013325</td>\n",
       "      <td>0.188357</td>\n",
       "      <td>0.791061</td>\n",
       "      <td>0.881214</td>\n",
       "      <td>0.853318</td>\n",
       "      <td>0.736909</td>\n",
       "      <td>0.662420</td>\n",
       "      <td>0.630457</td>\n",
       "      <td>0.488330</td>\n",
       "      <td>0.353451</td>\n",
       "      <td>0.287074</td>\n",
       "      <td>0.178695</td>\n",
       "      <td>0.094020</td>\n",
       "      <td>0.178397</td>\n",
       "      <td>0.189214</td>\n",
       "      <td>0.084906</td>\n",
       "      <td>0.037185</td>\n",
       "      <td>0.020948</td>\n",
       "      <td>0.012264</td>\n",
       "      <td>AGO</td>\n",
       "      <td>Angola</td>\n",
       "      <td>NaN</td>\n",
       "      <td>NaN</td>\n",
       "      <td>87823260dffffff</td>\n",
       "      <td>0</td>\n",
       "      <td>1</td>\n",
       "      <td>0</td>\n",
       "      <td>0</td>\n",
       "      <td>0</td>\n",
       "      <td>0</td>\n",
       "      <td>NaN</td>\n",
       "      <td>NaN</td>\n",
       "      <td>NaN</td>\n",
       "      <td>NaN</td>\n",
       "      <td>NaN</td>\n",
       "      <td>NaN</td>\n",
       "      <td>NaN</td>\n",
       "      <td>NaN</td>\n",
       "      <td>NaN</td>\n",
       "      <td>NaN</td>\n",
       "      <td>NaN</td>\n",
       "      <td>NaN</td>\n",
       "    </tr>\n",
       "    <tr>\n",
       "      <th>1</th>\n",
       "      <td>610276262933430271</td>\n",
       "      <td>cabinda</td>\n",
       "      <td>1.328792e+06</td>\n",
       "      <td>18139.152803</td>\n",
       "      <td>9605.344439</td>\n",
       "      <td>0.0</td>\n",
       "      <td>((12.219237535243943, -5.6090981921783225), (1...</td>\n",
       "      <td>37.112027</td>\n",
       "      <td>5.311707</td>\n",
       "      <td>6.986836</td>\n",
       "      <td>15717.0</td>\n",
       "      <td>6479.0</td>\n",
       "      <td>1.0</td>\n",
       "      <td>0.0</td>\n",
       "      <td>0.0</td>\n",
       "      <td>0.0</td>\n",
       "      <td>68.95238</td>\n",
       "      <td>646.698793</td>\n",
       "      <td>0.215418</td>\n",
       "      <td>0.079168</td>\n",
       "      <td>5.743694</td>\n",
       "      <td>4.614418</td>\n",
       "      <td>1458.4762</td>\n",
       "      <td>364.300402</td>\n",
       "      <td>260.929612</td>\n",
       "      <td>0.127418</td>\n",
       "      <td>0.126591</td>\n",
       "      <td>5.127139</td>\n",
       "      <td>NaN</td>\n",
       "      <td>0.043447</td>\n",
       "      <td>NaN</td>\n",
       "      <td>435346.72</td>\n",
       "      <td>346996.25</td>\n",
       "      <td>4316442.5</td>\n",
       "      <td>297.571244</td>\n",
       "      <td>0.716460</td>\n",
       "      <td>0.509262</td>\n",
       "      <td>229.0</td>\n",
       "      <td>2015.0</td>\n",
       "      <td>71.0</td>\n",
       "      <td>313.541485</td>\n",
       "      <td>14.218341</td>\n",
       "      <td>5.100437</td>\n",
       "      <td>1.0</td>\n",
       "      <td>1.480349</td>\n",
       "      <td>3.733624</td>\n",
       "      <td>88895.668122</td>\n",
       "      <td>7.161572</td>\n",
       "      <td>0.614931</td>\n",
       "      <td>0.484716</td>\n",
       "      <td>0.135371</td>\n",
       "      <td>0.063636</td>\n",
       "      <td>0.148472</td>\n",
       "      <td>0.0</td>\n",
       "      <td>0.035714</td>\n",
       "      <td>0.201342</td>\n",
       "      <td>0.388646</td>\n",
       "      <td>1.0</td>\n",
       "      <td>NaN</td>\n",
       "      <td>-5.599547</td>\n",
       "      <td>12.20373</td>\n",
       "      <td>0.09607</td>\n",
       "      <td>0.0</td>\n",
       "      <td>0.0</td>\n",
       "      <td>(-5.601659871826836, 12.20904389095013)</td>\n",
       "      <td>2015.0</td>\n",
       "      <td>71.0</td>\n",
       "      <td>292.231527</td>\n",
       "      <td>14.064039</td>\n",
       "      <td>5.009852</td>\n",
       "      <td>1.0</td>\n",
       "      <td>1.507389</td>\n",
       "      <td>3.815271</td>\n",
       "      <td>95529.032020</td>\n",
       "      <td>7.600985</td>\n",
       "      <td>0.568976</td>\n",
       "      <td>0.426108</td>\n",
       "      <td>406.0</td>\n",
       "      <td>0.160099</td>\n",
       "      <td>406.0</td>\n",
       "      <td>0.035264</td>\n",
       "      <td>397.0</td>\n",
       "      <td>0.083744</td>\n",
       "      <td>406.0</td>\n",
       "      <td>0.015873</td>\n",
       "      <td>63.0</td>\n",
       "      <td>0.053191</td>\n",
       "      <td>94.0</td>\n",
       "      <td>0.197080</td>\n",
       "      <td>274.0</td>\n",
       "      <td>0.357143</td>\n",
       "      <td>406.0</td>\n",
       "      <td>1.0</td>\n",
       "      <td>NaN</td>\n",
       "      <td>-5.593414</td>\n",
       "      <td>12.203928</td>\n",
       "      <td>0.068966</td>\n",
       "      <td>406.0</td>\n",
       "      <td>0.000000</td>\n",
       "      <td>406.0</td>\n",
       "      <td>0.0</td>\n",
       "      <td>406.0</td>\n",
       "      <td>2450.046862</td>\n",
       "      <td>15.047619</td>\n",
       "      <td>4.823639</td>\n",
       "      <td>42.0</td>\n",
       "      <td>620.865800</td>\n",
       "      <td>9.072910</td>\n",
       "      <td>38.104385</td>\n",
       "      <td>39.722000</td>\n",
       "      <td>38.464530</td>\n",
       "      <td>33.217224</td>\n",
       "      <td>19.930933</td>\n",
       "      <td>27.036324</td>\n",
       "      <td>25.731794</td>\n",
       "      <td>14.425934</td>\n",
       "      <td>11.716792</td>\n",
       "      <td>9.368069</td>\n",
       "      <td>9.352486</td>\n",
       "      <td>9.919562</td>\n",
       "      <td>4.929001</td>\n",
       "      <td>1.949420</td>\n",
       "      <td>1.098223</td>\n",
       "      <td>4.451204</td>\n",
       "      <td>0.642931</td>\n",
       "      <td>9.087955</td>\n",
       "      <td>38.167572</td>\n",
       "      <td>42.517320</td>\n",
       "      <td>41.171364</td>\n",
       "      <td>35.554790</td>\n",
       "      <td>31.960796</td>\n",
       "      <td>30.418655</td>\n",
       "      <td>23.561209</td>\n",
       "      <td>17.053514</td>\n",
       "      <td>13.850922</td>\n",
       "      <td>8.621760</td>\n",
       "      <td>4.536332</td>\n",
       "      <td>8.607418</td>\n",
       "      <td>9.129319</td>\n",
       "      <td>4.096598</td>\n",
       "      <td>1.794119</td>\n",
       "      <td>1.010733</td>\n",
       "      <td>0.591712</td>\n",
       "      <td>AGO</td>\n",
       "      <td>Angola</td>\n",
       "      <td>NaN</td>\n",
       "      <td>NaN</td>\n",
       "      <td>87823071affffff</td>\n",
       "      <td>0</td>\n",
       "      <td>1</td>\n",
       "      <td>0</td>\n",
       "      <td>0</td>\n",
       "      <td>0</td>\n",
       "      <td>0</td>\n",
       "      <td>NaN</td>\n",
       "      <td>229.0</td>\n",
       "      <td>229.0</td>\n",
       "      <td>220.0</td>\n",
       "      <td>229.0</td>\n",
       "      <td>39.0</td>\n",
       "      <td>56.0</td>\n",
       "      <td>149.0</td>\n",
       "      <td>229.0</td>\n",
       "      <td>229.0</td>\n",
       "      <td>229.0</td>\n",
       "      <td>229.0</td>\n",
       "    </tr>\n",
       "  </tbody>\n",
       "</table>\n",
       "</div>"
      ],
      "text/plain": [
       "             hex_code name_commuting  win_population_commuting  \\\n",
       "0  610276395859312639        cabinda              1.328792e+06   \n",
       "1  610276262933430271        cabinda              1.328792e+06   \n",
       "\n",
       "   win_roads_km_commuting  area_commuting  n_conflicts  \\\n",
       "0            18139.152803     9605.344439          0.0   \n",
       "1            18139.152803     9605.344439          0.0   \n",
       "\n",
       "                                            geometry  length_km  area_km2  \\\n",
       "0  ((12.732904100477812, -4.623059167412168), (12...  10.689607  5.311200   \n",
       "1  ((12.219237535243943, -5.6090981921783225), (1...  37.112027  5.311707   \n",
       "\n",
       "   road_density  avg_d_kbps  avg_u_kbps  GSM  LTE  UMTS  avg_signal  \\\n",
       "0      2.012654         NaN         NaN  0.0  0.0   0.0         NaN   \n",
       "1      6.986836     15717.0      6479.0  1.0  0.0   0.0         0.0   \n",
       "\n",
       "   elevation  evapotrans      ndvi      ndwi   avg_rad    cf_cvg       pdsi  \\\n",
       "0  211.45454  727.532504  0.343543  0.282376  0.157719  2.329546  1382.3182   \n",
       "1   68.95238  646.698793  0.215418  0.079168  5.743694  4.614418  1458.4762   \n",
       "\n",
       "   Optical_Depth_047  Optical_Depth_055  precimean  precistd     slope  \\\n",
       "0         382.359320         274.391760   0.127455  0.148234  5.437882   \n",
       "1         364.300402         260.929612   0.127418  0.126591  5.127139   \n",
       "\n",
       "   2019gdp    africa  ec2019  GDP_PPP_1990  GDP_PPP_2000  GDP_PPP_2015  \\\n",
       "0      NaN  0.001981     NaN           NaN           NaN           NaN   \n",
       "1      NaN  0.043447     NaN     435346.72     346996.25     4316442.5   \n",
       "\n",
       "    child_pop       rwi  rwi_error  survey    year  round     cluster  \\\n",
       "0    6.167462 -0.336534   0.228155     NaN     NaN    NaN         NaN   \n",
       "1  297.571244  0.716460   0.509262   229.0  2015.0   71.0  313.541485   \n",
       "\n",
       "        hhid     indid  location       sex    wealth   wealthscore       age  \\\n",
       "0        NaN       NaN       NaN       NaN       NaN           NaN       NaN   \n",
       "1  14.218341  5.100437       1.0  1.480349  3.733624  88895.668122  7.161572   \n",
       "\n",
       "   hhweight  sumpoor_sev  dep_housing_sev  dep_water_sev  dep_sanitation_sev  \\\n",
       "0       NaN          NaN              NaN            NaN                 NaN   \n",
       "1  0.614931     0.484716         0.135371       0.063636            0.148472   \n",
       "\n",
       "   dep_nutrition_sev  dep_health_sev  dep_education_sev  deprived_sev  region  \\\n",
       "0                NaN             NaN                NaN           NaN     NaN   \n",
       "1                0.0        0.035714           0.201342      0.388646     1.0   \n",
       "\n",
       "   region2    latnum   longnum  dep_2_or_more_sev  dep_3_or_more_sev  \\\n",
       "0      NaN       NaN       NaN                NaN                NaN   \n",
       "1      NaN -5.599547  12.20373            0.09607                0.0   \n",
       "\n",
       "   dep_4_or_more_sev                              hex_centroid  \\\n",
       "0                NaN  (-4.615699589011692, 12.722683696731998)   \n",
       "1                0.0   (-5.601659871826836, 12.20904389095013)   \n",
       "\n",
       "   year_mean_neigh  round_mean_neigh  cluster_mean_neigh  hhid_mean_neigh  \\\n",
       "0           2015.0              71.0           77.000000        13.196721   \n",
       "1           2015.0              71.0          292.231527        14.064039   \n",
       "\n",
       "   indid_mean_neigh  location_mean_neigh  sex_mean_neigh  wealth_mean_neigh  \\\n",
       "0          4.360656                  2.0        1.557377           2.934426   \n",
       "1          5.009852                  1.0        1.507389           3.815271   \n",
       "\n",
       "   wealthscore_mean_neigh  age_mean_neigh  hhweight_mean_neigh  \\\n",
       "0            25245.852459        6.770492             0.392661   \n",
       "1            95529.032020        7.600985             0.568976   \n",
       "\n",
       "   sumpoor_prev_neigh  sumpoor_count_neigh  housing_prev_neigh  \\\n",
       "0            1.327869                 61.0            0.114754   \n",
       "1            0.426108                406.0            0.160099   \n",
       "\n",
       "   housing_count_neigh  water_prev_neigh  water_count_neigh  \\\n",
       "0                 61.0          0.770492               61.0   \n",
       "1                406.0          0.035264              397.0   \n",
       "\n",
       "   sanitation_prev_neigh  sanitation_count_neigh  nutrition_prev_neigh  \\\n",
       "0               0.409836                    61.0              0.000000   \n",
       "1               0.083744                   406.0              0.015873   \n",
       "\n",
       "   nutrition_count_neigh  health_prev_neigh  health_count_neigh  \\\n",
       "0                   12.0           0.000000                15.0   \n",
       "1                   63.0           0.053191                94.0   \n",
       "\n",
       "   education_prev_neigh  education_count_neigh  deprived_sev_mean_neigh  \\\n",
       "0              0.054054                   37.0                 0.770492   \n",
       "1              0.197080                  274.0                 0.357143   \n",
       "\n",
       "   deprived_sev_count_neigh  region_mean_neigh  region2_mean_neigh  \\\n",
       "0                      61.0                1.0                 NaN   \n",
       "1                     406.0                1.0                 NaN   \n",
       "\n",
       "   latnum_mean_neigh  longnum_mean_neigh  2_or_more_prev_neigh  \\\n",
       "0          -4.653519           12.731428              0.475410   \n",
       "1          -5.593414           12.203928              0.068966   \n",
       "\n",
       "   2_or_more_count_neigh  3_or_more_prev_neigh  3_or_more_count_neigh  \\\n",
       "0                   61.0              0.081967                   61.0   \n",
       "1                  406.0              0.000000                  406.0   \n",
       "\n",
       "   4_or_more_prev_neigh  4_or_more_count_neigh   precipiacc       cnfd  \\\n",
       "0                   0.0                   61.0  2987.668259   0.000000   \n",
       "1                   0.0                  406.0  2450.046862  15.047619   \n",
       "\n",
       "   accessibility  accessibility_walking_only  population       M_0        M_1  \\\n",
       "0      11.793229                        71.0   12.868066  0.188045   0.789752   \n",
       "1       4.823639                        42.0  620.865800  9.072910  38.104385   \n",
       "\n",
       "         M_5       M_10       M_15       M_30       M_20       M_25  \\\n",
       "0   0.823278   0.797216   0.688460   0.413089   0.560355   0.533317   \n",
       "1  39.722000  38.464530  33.217224  19.930933  27.036324  25.731794   \n",
       "\n",
       "        M_35       M_40      M_45      M_50      M_55      M_60      M_70  \\\n",
       "0   0.298992   0.242842  0.194163  0.193840  0.205593  0.102158  0.040404   \n",
       "1  14.425934  11.716792  9.368069  9.352486  9.919562  4.929001  1.949420   \n",
       "\n",
       "       M_75      M_65      M_80       F_0        F_1        F_5       F_10  \\\n",
       "0  0.022762  0.092256  0.013325  0.188357   0.791061   0.881214   0.853318   \n",
       "1  1.098223  4.451204  0.642931  9.087955  38.167572  42.517320  41.171364   \n",
       "\n",
       "        F_15       F_20       F_25       F_30       F_35       F_40      F_45  \\\n",
       "0   0.736909   0.662420   0.630457   0.488330   0.353451   0.287074  0.178695   \n",
       "1  35.554790  31.960796  30.418655  23.561209  17.053514  13.850922  8.621760   \n",
       "\n",
       "       F_60      F_50      F_55      F_65      F_70      F_75      F_80  \\\n",
       "0  0.094020  0.178397  0.189214  0.084906  0.037185  0.020948  0.012264   \n",
       "1  4.536332  8.607418  9.129319  4.096598  1.794119  1.010733  0.591712   \n",
       "\n",
       "  country_code country  NR  CDMA     hex_code_str  water_surface  no_built  \\\n",
       "0          AGO  Angola NaN   NaN  87823260dffffff              0         1   \n",
       "1          AGO  Angola NaN   NaN  87823071affffff              0         1   \n",
       "\n",
       "   build_2000_2014  build_1990_2000  build_1975_1990  build_prior_1975  \\\n",
       "0                0                0                0                 0   \n",
       "1                0                0                0                 0   \n",
       "\n",
       "  largest  sumpoor_count  dep_housing_count  dep_water_count  \\\n",
       "0     NaN            NaN                NaN              NaN   \n",
       "1     NaN          229.0              229.0            220.0   \n",
       "\n",
       "   dep_sanitation_count  dep_nutrition_count  dep_health_count  \\\n",
       "0                   NaN                  NaN               NaN   \n",
       "1                 229.0                 39.0              56.0   \n",
       "\n",
       "   dep_education_count  deprived_count  dep_2_or_more_count  \\\n",
       "0                  NaN             NaN                  NaN   \n",
       "1                149.0           229.0                229.0   \n",
       "\n",
       "   dep_3_or_more_count  dep_4_or_more_count  \n",
       "0                  NaN                  NaN  \n",
       "1                229.0                229.0  "
      ]
     },
     "execution_count": 94,
     "metadata": {},
     "output_type": "execute_result"
    }
   ],
   "source": [
    "hexes_dhs.head(2)"
   ]
  },
  {
   "cell_type": "code",
   "execution_count": 96,
   "metadata": {},
   "outputs": [],
   "source": [
    "hexes_dhs.to_csv(read_path + '/processed/20221030_hexes_dhs.csv', index=False)"
   ]
  },
  {
   "cell_type": "code",
   "execution_count": null,
   "metadata": {},
   "outputs": [],
   "source": []
  },
  {
   "cell_type": "markdown",
   "metadata": {},
   "source": [
    "# Years of DHS surveys"
   ]
  },
  {
   "cell_type": "code",
   "execution_count": 12,
   "metadata": {},
   "outputs": [],
   "source": [
    "countries_ssf = ['Angola', \n",
    "            'Benin', 'Botswana', 'Burkina Faso', 'Burundi',\n",
    "            'Cabo Verde', 'Cameroon', 'Central African Republic', 'Chad', 'Comoros', 'Congo, The Democratic Republic of the', 'Congo', \"Côte d'Ivoire\",\n",
    "            'Equatorial Guinea', 'Eritrea', 'Eswatini', 'Ethiopia', \n",
    "            'Gabon', 'Gambia', 'Ghana', 'Guinea', 'Guinea-Bissau',\n",
    "            'Kenya', \n",
    "            'Lesotho', 'Liberia', \n",
    "            'Madagascar', 'Malawi', 'Mali', 'Mauritania', 'Mauritius', 'Mozambique',\n",
    "            'Namibia', 'Niger', 'Nigeria',\n",
    "            'Rwanda', \n",
    "            'Sao Tome and Principe', 'Senegal', 'Seychelles', 'Sierra Leone', 'Somalia', 'South Africa', 'Sudan', 'South Sudan', \n",
    "            'Tanzania, United Republic of', 'Togo', \n",
    "            'Uganda',\n",
    "            'Zambia', 'Zimbabwe']"
   ]
  },
  {
   "cell_type": "code",
   "execution_count": 16,
   "metadata": {},
   "outputs": [],
   "source": [
    "countries_dhs = pd.DataFrame(columns=['country', 'country_code', 'dhs_children', 'dhs_year', 'mics_children', 'mics_year'])\n",
    "\n",
    "for country in countries_ssf:\n",
    "    country_code = ct.get_alpha3_code(country)\n",
    "\n",
    "    if country_code in list(raw['countrycode']):\n",
    "        subset = raw[raw['countrycode']==country_code]\n",
    "        # print('check if there are nan values')\n",
    "        # print(subset['deprived_sev'].value_counts())\n",
    "        dhs = subset[subset.survey=='DHS']\n",
    "        if dhs.shape[0]!= 0:\n",
    "            year_dhs = dhs.year.mean()\n",
    "            num_dhs = dhs.shape[0]\n",
    "        else:\n",
    "            year_dhs, num_dhs = 0, 0\n",
    "\n",
    "        mics = subset[subset.survey=='MICS']\n",
    "        if mics.shape[0]!= 0:\n",
    "            year_mics = mics.year.mean()\n",
    "            num_mics = mics.shape[0]\n",
    "        else:\n",
    "            year_mics, num_mics = 0, 0\n",
    "\n",
    "        countries_dhs = countries_dhs.append({'country':country,  'country_code':country_code, 'dhs_children': num_dhs, 'dhs_year':year_dhs, \n",
    "                    'mics_children':  num_mics,   'mics_year': year_mics}, ignore_index=True)\n",
    "    \n",
    "        "
   ]
  },
  {
   "cell_type": "code",
   "execution_count": 19,
   "metadata": {},
   "outputs": [],
   "source": [
    "country_mics = countries_dhs[countries_dhs['mics_children']!= 0].copy()\n",
    "countries_dhs = countries_dhs[countries_dhs['dhs_children']!= 0].copy()"
   ]
  },
  {
   "cell_type": "code",
   "execution_count": 23,
   "metadata": {},
   "outputs": [
    {
     "data": {
      "text/html": [
       "<div>\n",
       "<style scoped>\n",
       "    .dataframe tbody tr th:only-of-type {\n",
       "        vertical-align: middle;\n",
       "    }\n",
       "\n",
       "    .dataframe tbody tr th {\n",
       "        vertical-align: top;\n",
       "    }\n",
       "\n",
       "    .dataframe thead th {\n",
       "        text-align: right;\n",
       "    }\n",
       "</style>\n",
       "<table border=\"1\" class=\"dataframe\">\n",
       "  <thead>\n",
       "    <tr style=\"text-align: right;\">\n",
       "      <th></th>\n",
       "      <th>country</th>\n",
       "      <th>country_code</th>\n",
       "      <th>dhs_children</th>\n",
       "      <th>dhs_year</th>\n",
       "      <th>mics_children</th>\n",
       "      <th>mics_year</th>\n",
       "    </tr>\n",
       "  </thead>\n",
       "  <tbody>\n",
       "    <tr>\n",
       "      <th>5</th>\n",
       "      <td>Central African Republic</td>\n",
       "      <td>CAF</td>\n",
       "      <td>0</td>\n",
       "      <td>0.0</td>\n",
       "      <td>25430</td>\n",
       "      <td>2019.0</td>\n",
       "    </tr>\n",
       "    <tr>\n",
       "      <th>6</th>\n",
       "      <td>Chad</td>\n",
       "      <td>TCD</td>\n",
       "      <td>0</td>\n",
       "      <td>0.0</td>\n",
       "      <td>67164</td>\n",
       "      <td>2019.0</td>\n",
       "    </tr>\n",
       "    <tr>\n",
       "      <th>8</th>\n",
       "      <td>Congo, The Democratic Republic of the</td>\n",
       "      <td>COD</td>\n",
       "      <td>53868</td>\n",
       "      <td>2013.0</td>\n",
       "      <td>57566</td>\n",
       "      <td>2018.0</td>\n",
       "    </tr>\n",
       "    <tr>\n",
       "      <th>9</th>\n",
       "      <td>Congo</td>\n",
       "      <td>COG</td>\n",
       "      <td>0</td>\n",
       "      <td>0.0</td>\n",
       "      <td>26691</td>\n",
       "      <td>2015.0</td>\n",
       "    </tr>\n",
       "    <tr>\n",
       "      <th>10</th>\n",
       "      <td>Côte d'Ivoire</td>\n",
       "      <td>CIV</td>\n",
       "      <td>0</td>\n",
       "      <td>0.0</td>\n",
       "      <td>28377</td>\n",
       "      <td>2016.0</td>\n",
       "    </tr>\n",
       "    <tr>\n",
       "      <th>11</th>\n",
       "      <td>Eswatini</td>\n",
       "      <td>SWZ</td>\n",
       "      <td>0</td>\n",
       "      <td>0.0</td>\n",
       "      <td>10131</td>\n",
       "      <td>2014.0</td>\n",
       "    </tr>\n",
       "    <tr>\n",
       "      <th>13</th>\n",
       "      <td>Gambia</td>\n",
       "      <td>GMB</td>\n",
       "      <td>0</td>\n",
       "      <td>0.0</td>\n",
       "      <td>32786</td>\n",
       "      <td>2018.0</td>\n",
       "    </tr>\n",
       "    <tr>\n",
       "      <th>14</th>\n",
       "      <td>Ghana</td>\n",
       "      <td>GHA</td>\n",
       "      <td>0</td>\n",
       "      <td>0.0</td>\n",
       "      <td>30663</td>\n",
       "      <td>2017.0</td>\n",
       "    </tr>\n",
       "    <tr>\n",
       "      <th>16</th>\n",
       "      <td>Guinea-Bissau</td>\n",
       "      <td>GNB</td>\n",
       "      <td>0</td>\n",
       "      <td>0.0</td>\n",
       "      <td>24206</td>\n",
       "      <td>2019.0</td>\n",
       "    </tr>\n",
       "    <tr>\n",
       "      <th>18</th>\n",
       "      <td>Lesotho</td>\n",
       "      <td>LSO</td>\n",
       "      <td>16898</td>\n",
       "      <td>2014.0</td>\n",
       "      <td>13989</td>\n",
       "      <td>2018.0</td>\n",
       "    </tr>\n",
       "    <tr>\n",
       "      <th>20</th>\n",
       "      <td>Madagascar</td>\n",
       "      <td>MDG</td>\n",
       "      <td>0</td>\n",
       "      <td>0.0</td>\n",
       "      <td>42754</td>\n",
       "      <td>2018.0</td>\n",
       "    </tr>\n",
       "    <tr>\n",
       "      <th>23</th>\n",
       "      <td>Mauritania</td>\n",
       "      <td>MRT</td>\n",
       "      <td>0</td>\n",
       "      <td>0.0</td>\n",
       "      <td>35481</td>\n",
       "      <td>2015.0</td>\n",
       "    </tr>\n",
       "    <tr>\n",
       "      <th>29</th>\n",
       "      <td>Sao Tome and Principe</td>\n",
       "      <td>STP</td>\n",
       "      <td>0</td>\n",
       "      <td>0.0</td>\n",
       "      <td>6931</td>\n",
       "      <td>2019.0</td>\n",
       "    </tr>\n",
       "    <tr>\n",
       "      <th>34</th>\n",
       "      <td>Togo</td>\n",
       "      <td>TGO</td>\n",
       "      <td>23890</td>\n",
       "      <td>2013.0</td>\n",
       "      <td>17425</td>\n",
       "      <td>2017.0</td>\n",
       "    </tr>\n",
       "  </tbody>\n",
       "</table>\n",
       "</div>"
      ],
      "text/plain": [
       "                                  country country_code dhs_children  dhs_year  \\\n",
       "5                Central African Republic          CAF            0       0.0   \n",
       "6                                    Chad          TCD            0       0.0   \n",
       "8   Congo, The Democratic Republic of the          COD        53868    2013.0   \n",
       "9                                   Congo          COG            0       0.0   \n",
       "10                          Côte d'Ivoire          CIV            0       0.0   \n",
       "11                               Eswatini          SWZ            0       0.0   \n",
       "13                                 Gambia          GMB            0       0.0   \n",
       "14                                  Ghana          GHA            0       0.0   \n",
       "16                          Guinea-Bissau          GNB            0       0.0   \n",
       "18                                Lesotho          LSO        16898    2014.0   \n",
       "20                             Madagascar          MDG            0       0.0   \n",
       "23                             Mauritania          MRT            0       0.0   \n",
       "29                  Sao Tome and Principe          STP            0       0.0   \n",
       "34                                   Togo          TGO        23890    2013.0   \n",
       "\n",
       "   mics_children mics_year  \n",
       "5          25430    2019.0  \n",
       "6          67164    2019.0  \n",
       "8          57566    2018.0  \n",
       "9          26691    2015.0  \n",
       "10         28377    2016.0  \n",
       "11         10131    2014.0  \n",
       "13         32786    2018.0  \n",
       "14         30663    2017.0  \n",
       "16         24206    2019.0  \n",
       "18         13989    2018.0  \n",
       "20         42754    2018.0  \n",
       "23         35481    2015.0  \n",
       "29          6931    2019.0  \n",
       "34         17425    2017.0  "
      ]
     },
     "execution_count": 23,
     "metadata": {},
     "output_type": "execute_result"
    }
   ],
   "source": [
    "country_mics"
   ]
  },
  {
   "cell_type": "code",
   "execution_count": 14,
   "metadata": {},
   "outputs": [
    {
     "data": {
      "text/html": [
       "<div>\n",
       "<style scoped>\n",
       "    .dataframe tbody tr th:only-of-type {\n",
       "        vertical-align: middle;\n",
       "    }\n",
       "\n",
       "    .dataframe tbody tr th {\n",
       "        vertical-align: top;\n",
       "    }\n",
       "\n",
       "    .dataframe thead th {\n",
       "        text-align: right;\n",
       "    }\n",
       "</style>\n",
       "<table border=\"1\" class=\"dataframe\">\n",
       "  <thead>\n",
       "    <tr style=\"text-align: right;\">\n",
       "      <th></th>\n",
       "      <th>country</th>\n",
       "      <th>country_code</th>\n",
       "      <th>dhs_children</th>\n",
       "      <th>dhs_year</th>\n",
       "      <th>num hex with output</th>\n",
       "      <th>num hex with neigh</th>\n",
       "      <th>tot</th>\n",
       "    </tr>\n",
       "  </thead>\n",
       "  <tbody>\n",
       "    <tr>\n",
       "      <th>0</th>\n",
       "      <td>Angola</td>\n",
       "      <td>AGO</td>\n",
       "      <td>42167</td>\n",
       "      <td>2015</td>\n",
       "      <td>519</td>\n",
       "      <td>6050</td>\n",
       "      <td>220183</td>\n",
       "    </tr>\n",
       "    <tr>\n",
       "      <th>1</th>\n",
       "      <td>Benin</td>\n",
       "      <td>BEN</td>\n",
       "      <td>40064</td>\n",
       "      <td>2017</td>\n",
       "      <td>475</td>\n",
       "      <td>5065</td>\n",
       "      <td>28345</td>\n",
       "    </tr>\n",
       "    <tr>\n",
       "      <th>2</th>\n",
       "      <td>Burkina Faso</td>\n",
       "      <td>BFA</td>\n",
       "      <td>44464</td>\n",
       "      <td>2010</td>\n",
       "      <td>501</td>\n",
       "      <td>7154</td>\n",
       "      <td>67132</td>\n",
       "    </tr>\n",
       "  </tbody>\n",
       "</table>\n",
       "</div>"
      ],
      "text/plain": [
       "        country country_code  dhs_children  dhs_year  num hex with output  \\\n",
       "0        Angola          AGO         42167      2015                  519   \n",
       "1         Benin          BEN         40064      2017                  475   \n",
       "2  Burkina Faso          BFA         44464      2010                  501   \n",
       "\n",
       "   num hex with neigh     tot  \n",
       "0                6050  220183  \n",
       "1                5065   28345  \n",
       "2                7154   67132  "
      ]
     },
     "execution_count": 14,
     "metadata": {},
     "output_type": "execute_result"
    }
   ],
   "source": [
    "# countries_dhs = pd.read_csv('/mnt/c/Users/vicin/Desktop/DSSG/Data/Tables tesi/countries_with_output.csv', dtype = {'DHS year':int})\n",
    "# countries_dhs = countries_dhs.rename(columns = {'Country':'country', 'Code':'country_code', 'DHS year':'dhs_year', 'Number of children with DHS':'dhs_children'})\n",
    "countries_dhs.head(3)"
   ]
  },
  {
   "cell_type": "code",
   "execution_count": 38,
   "metadata": {},
   "outputs": [],
   "source": [
    "# ctry_code = ct.get_alpha3_code('')\n",
    "shpfilename = shpreader.natural_earth(\n",
    "        resolution=\"10m\", category=\"cultural\", name=\"admin_0_countries\"\n",
    "    )\n",
    "\n",
    "# read the shapefile using geopandas\n",
    "world = gpd.read_file(shpfilename)\n",
    "\n",
    "# select countries in Africa\n",
    "africa = world[world['CONTINENT'] == \"Africa\"]"
   ]
  },
  {
   "cell_type": "code",
   "execution_count": 4,
   "metadata": {},
   "outputs": [
    {
     "data": {
      "text/html": [
       "<div>\n",
       "<style scoped>\n",
       "    .dataframe tbody tr th:only-of-type {\n",
       "        vertical-align: middle;\n",
       "    }\n",
       "\n",
       "    .dataframe tbody tr th {\n",
       "        vertical-align: top;\n",
       "    }\n",
       "\n",
       "    .dataframe thead th {\n",
       "        text-align: right;\n",
       "    }\n",
       "</style>\n",
       "<table border=\"1\" class=\"dataframe\">\n",
       "  <thead>\n",
       "    <tr style=\"text-align: right;\">\n",
       "      <th></th>\n",
       "      <th>featurecla</th>\n",
       "      <th>scalerank</th>\n",
       "      <th>LABELRANK</th>\n",
       "      <th>SOVEREIGNT</th>\n",
       "      <th>SOV_A3</th>\n",
       "      <th>ADM0_DIF</th>\n",
       "      <th>LEVEL</th>\n",
       "      <th>TYPE</th>\n",
       "      <th>TLC</th>\n",
       "      <th>ADMIN</th>\n",
       "      <th>...</th>\n",
       "      <th>FCLASS_TR</th>\n",
       "      <th>FCLASS_ID</th>\n",
       "      <th>FCLASS_PL</th>\n",
       "      <th>FCLASS_GR</th>\n",
       "      <th>FCLASS_IT</th>\n",
       "      <th>FCLASS_NL</th>\n",
       "      <th>FCLASS_SE</th>\n",
       "      <th>FCLASS_BD</th>\n",
       "      <th>FCLASS_UA</th>\n",
       "      <th>geometry</th>\n",
       "    </tr>\n",
       "  </thead>\n",
       "  <tbody>\n",
       "    <tr>\n",
       "      <th>13</th>\n",
       "      <td>Admin-0 country</td>\n",
       "      <td>0</td>\n",
       "      <td>2</td>\n",
       "      <td>Ethiopia</td>\n",
       "      <td>ETH</td>\n",
       "      <td>0</td>\n",
       "      <td>2</td>\n",
       "      <td>Sovereign country</td>\n",
       "      <td>1</td>\n",
       "      <td>Ethiopia</td>\n",
       "      <td>...</td>\n",
       "      <td>None</td>\n",
       "      <td>None</td>\n",
       "      <td>None</td>\n",
       "      <td>None</td>\n",
       "      <td>None</td>\n",
       "      <td>None</td>\n",
       "      <td>None</td>\n",
       "      <td>None</td>\n",
       "      <td>None</td>\n",
       "      <td>POLYGON ((34.07070 9.45459, 34.06689 9.53118, ...</td>\n",
       "    </tr>\n",
       "    <tr>\n",
       "      <th>14</th>\n",
       "      <td>Admin-0 country</td>\n",
       "      <td>0</td>\n",
       "      <td>3</td>\n",
       "      <td>South Sudan</td>\n",
       "      <td>SDS</td>\n",
       "      <td>0</td>\n",
       "      <td>2</td>\n",
       "      <td>Sovereign country</td>\n",
       "      <td>1</td>\n",
       "      <td>South Sudan</td>\n",
       "      <td>...</td>\n",
       "      <td>None</td>\n",
       "      <td>None</td>\n",
       "      <td>None</td>\n",
       "      <td>None</td>\n",
       "      <td>None</td>\n",
       "      <td>None</td>\n",
       "      <td>None</td>\n",
       "      <td>None</td>\n",
       "      <td>None</td>\n",
       "      <td>POLYGON ((35.92084 4.61933, 35.85654 4.61960, ...</td>\n",
       "    </tr>\n",
       "  </tbody>\n",
       "</table>\n",
       "<p>2 rows × 169 columns</p>\n",
       "</div>"
      ],
      "text/plain": [
       "         featurecla  scalerank  LABELRANK   SOVEREIGNT SOV_A3  ADM0_DIF  \\\n",
       "13  Admin-0 country          0          2     Ethiopia    ETH         0   \n",
       "14  Admin-0 country          0          3  South Sudan    SDS         0   \n",
       "\n",
       "    LEVEL               TYPE TLC        ADMIN  ... FCLASS_TR  FCLASS_ID  \\\n",
       "13      2  Sovereign country   1     Ethiopia  ...      None       None   \n",
       "14      2  Sovereign country   1  South Sudan  ...      None       None   \n",
       "\n",
       "   FCLASS_PL FCLASS_GR  FCLASS_IT FCLASS_NL FCLASS_SE  FCLASS_BD FCLASS_UA  \\\n",
       "13      None      None       None      None      None       None      None   \n",
       "14      None      None       None      None      None       None      None   \n",
       "\n",
       "                                             geometry  \n",
       "13  POLYGON ((34.07070 9.45459, 34.06689 9.53118, ...  \n",
       "14  POLYGON ((35.92084 4.61933, 35.85654 4.61960, ...  \n",
       "\n",
       "[2 rows x 169 columns]"
      ]
     },
     "execution_count": 4,
     "metadata": {},
     "output_type": "execute_result"
    }
   ],
   "source": [
    "africa.head(2)"
   ]
  },
  {
   "cell_type": "code",
   "execution_count": 5,
   "metadata": {},
   "outputs": [
    {
     "name": "stdout",
     "output_type": "stream",
     "text": [
      "(25, 176)\n"
     ]
    }
   ],
   "source": [
    "to_plot = africa.merge(countries_dhs, how='left', right_on = 'country_code', left_on = 'ADM0_ISO')\n",
    "to_plot = to_plot[to_plot.country_code.isna()==False].copy()\n",
    "to_plot['dhs_year'] = to_plot['dhs_year'].apply(lambda x: int(x))\n",
    "print(to_plot.shape)"
   ]
  },
  {
   "cell_type": "code",
   "execution_count": 6,
   "metadata": {},
   "outputs": [
    {
     "data": {
      "text/plain": [
       "[2010, 2011, 2012, 2013, 2014, 2015, 2016, 2017, 2018, 2019]"
      ]
     },
     "execution_count": 6,
     "metadata": {},
     "output_type": "execute_result"
    }
   ],
   "source": [
    "sorted(to_plot.dhs_year.unique())"
   ]
  },
  {
   "cell_type": "code",
   "execution_count": 7,
   "metadata": {},
   "outputs": [
    {
     "name": "stdout",
     "output_type": "stream",
     "text": [
      "Countries with DHS surveys and the latest year it was done\n"
     ]
    },
    {
     "data": {
      "image/png": "[encoded data removed]",
      "text/plain": [
       "<Figure size 640x480 with 1 Axes>"
      ]
     },
     "metadata": {},
     "output_type": "display_data"
    }
   ],
   "source": [
    "fig, ax = plt.subplots()# dpi=300)\n",
    "ax.axis('off')\n",
    "\n",
    "africa.plot(ax=ax, edgecolor=\"black\", facecolor='lightgray', lw=0.25) \n",
    "\n",
    "print('Countries with DHS surveys and the latest year it was done')\n",
    "_ = to_plot.plot(ax=ax, edgecolor=\"black\", cmap = 'viridis', column = 'dhs_year',  lw=0.25, \n",
    "            categorical=True, legend=True,\n",
    "            legend_kwds={'loc': 'center left', 'bbox_to_anchor':(1,0.6),\n",
    "                         'fmt': \"{:.0f}\"}) \n",
    "\n"
   ]
  },
  {
   "cell_type": "code",
   "execution_count": 8,
   "metadata": {},
   "outputs": [
    {
     "name": "stdout",
     "output_type": "stream",
     "text": [
      "Children surveys per country\n"
     ]
    },
    {
     "data": {
      "image/png": "[encoded data removed]",
      "text/plain": [
       "<Figure size 640x480 with 2 Axes>"
      ]
     },
     "metadata": {},
     "output_type": "display_data"
    }
   ],
   "source": [
    "fig, ax = plt.subplots()# dpi=300)\n",
    "ax.axis('off')\n",
    "\n",
    "africa.plot(ax=ax, edgecolor=\"black\", facecolor='lightgray', lw=0.25) \n",
    "\n",
    "vmin, vmax = 10000, 100000\n",
    "\n",
    "print('Children surveys per country')\n",
    "_ = to_plot.plot(ax=ax, edgecolor=\"black\", cmap = 'viridis', column = 'dhs_children',  lw=0.25, vmin = vmin, vmax = vmax, \n",
    "            # legend=True,\n",
    "            # legend_kwds={\"shrink\":.9},\n",
    "            )\n",
    "\n",
    "sm = plt.cm.ScalarMappable(cmap='viridis', norm=plt.Normalize(vmin=vmin, vmax=vmax))\n",
    "sm._A = []\n",
    "cbar = fig.colorbar(sm, fraction=0.027)\n"
   ]
  },
  {
   "cell_type": "markdown",
   "metadata": {},
   "source": [
    "# Correlation between dimensions"
   ]
  },
  {
   "cell_type": "code",
   "execution_count": 51,
   "metadata": {},
   "outputs": [
    {
     "data": {
      "text/plain": [
       "(12468, 163)"
      ]
     },
     "execution_count": 51,
     "metadata": {},
     "output_type": "execute_result"
    }
   ],
   "source": [
    "hexes_dhs_no_neigh = hexes_dhs[hexes_dhs['deprived_sev'].isna()==False].copy()\n",
    "hexes_dhs_no_neigh.shape"
   ]
  },
  {
   "cell_type": "code",
   "execution_count": 13,
   "metadata": {},
   "outputs": [],
   "source": [
    "dimensions = ['sumpoor_sev', 'dep_housing_sev', 'dep_water_sev',\n",
    "       'dep_sanitation_sev', 'dep_nutrition_sev', 'dep_health_sev',\n",
    "       'dep_education_sev', 'deprived_sev']\n",
    "labels = ['depth', 'housing', 'water', 'sanitation', 'nutrition', 'health', 'education', 'prevalence']"
   ]
  },
  {
   "cell_type": "code",
   "execution_count": 11,
   "metadata": {},
   "outputs": [],
   "source": [
    "corr_no_neigh = hexes_dhs_no_neigh[dimensions].corr()"
   ]
  },
  {
   "cell_type": "code",
   "execution_count": 17,
   "metadata": {},
   "outputs": [
    {
     "data": {
      "text/plain": [
       "<AxesSubplot:>"
      ]
     },
     "execution_count": 17,
     "metadata": {},
     "output_type": "execute_result"
    },
    {
     "data": {
      "image/png": "[encoded data removed]",
      "text/plain": [
       "<Figure size 640x480 with 2 Axes>"
      ]
     },
     "metadata": {},
     "output_type": "display_data"
    }
   ],
   "source": [
    "sns.heatmap(corr_no_neigh,\n",
    "            square=True,\n",
    "            xticklabels=labels, yticklabels=labels,\n",
    "            linewidth=.5)"
   ]
  },
  {
   "cell_type": "markdown",
   "metadata": {},
   "source": [
    "# Correlation btw input and output"
   ]
  },
  {
   "cell_type": "code",
   "execution_count": 6,
   "metadata": {},
   "outputs": [],
   "source": [
    "corr_mat = hexes_dhs.corr()"
   ]
  },
  {
   "cell_type": "code",
   "execution_count": 29,
   "metadata": {},
   "outputs": [],
   "source": [
    "dimensions = ['sumpoor_sev', 'dep_housing_sev',\n",
    " 'dep_water_sev', 'dep_sanitation_sev', 'dep_nutrition_sev',\n",
    " 'dep_health_sev', 'dep_education_sev', 'deprived_sev',\n",
    " 'dep_2_or_more_sev']\n",
    "#  , 'dep_3_or_more_sev', 'dep_4_or_more_sev']"
   ]
  },
  {
   "cell_type": "code",
   "execution_count": 121,
   "metadata": {},
   "outputs": [
    {
     "data": {
      "text/plain": [
       "145"
      ]
     },
     "execution_count": 121,
     "metadata": {},
     "output_type": "execute_result"
    }
   ],
   "source": [
    "# to_keep = []\n",
    "# thr = 0.5\n",
    "# for col in corr_mat.columns:\n",
    "#     values = corr_mat[col]\n",
    "#     values = values.drop(col)\n",
    "#     mi, ma = values.min(), values.max()\n",
    "#     if (mi < - thr) | (ma > thr):\n",
    "#         # print(f'{col} - min: {corr_mat[col].min()}, max: {corr_mat[col].max()}')\n",
    "#         to_keep.append(col)\n",
    "# len(to_keep)"
   ]
  },
  {
   "cell_type": "code",
   "execution_count": 28,
   "metadata": {},
   "outputs": [],
   "source": [
    "# sns.heatmap(corr_mat[to_keep])"
   ]
  },
  {
   "cell_type": "code",
   "execution_count": 8,
   "metadata": {},
   "outputs": [],
   "source": [
    "input = ['win_population_commuting', 'win_roads_km_commuting',\n",
    "       'area_commuting', 'n_conflicts', 'length_km', 'area_km2',\n",
    "       'road_density', 'avg_d_kbps', 'avg_u_kbps', 'GSM', 'LTE', 'UMTS',\n",
    "       'avg_signal', 'elevation', 'evapotrans', 'ndvi', 'ndwi', 'avg_rad',\n",
    "       'cf_cvg', 'pdsi', 'Optical_Depth_047', 'Optical_Depth_055', 'precimean',\n",
    "       'precistd', 'slope', '2019gdp', 'africa', 'ec2019', 'GDP_PPP_1990',\n",
    "       'GDP_PPP_2000', 'GDP_PPP_2015', 'child_pop', 'rwi', 'rwi_error',\n",
    "       'precipiacc',\n",
    "       'cnfd', 'accessibility', 'accessibility_walking_only', 'population',\n",
    "       'M_0', 'M_1', 'M_5', 'M_10', 'M_15', 'M_30', 'M_20', 'M_25', 'M_35',\n",
    "       'M_40', 'M_45', 'M_50', 'M_55', 'M_60', 'M_70', 'M_75', 'M_65', 'M_80',\n",
    "       'F_0', 'F_1', 'F_5', 'F_10', 'F_15', 'F_20', 'F_25', 'F_30', 'F_35',\n",
    "       'F_40', 'F_45', 'F_60', 'F_50', 'F_55', 'F_65', 'F_70', 'F_75', 'F_80',\n",
    "       'NR', 'CDMA', 'water_surface', 'no_built', 'build_2000_2014',\n",
    "       'build_1990_2000', 'build_1975_1990', 'build_prior_1975',\n",
    "       ]"
   ]
  },
  {
   "cell_type": "code",
   "execution_count": 9,
   "metadata": {},
   "outputs": [
    {
     "data": {
      "text/plain": [
       "83"
      ]
     },
     "execution_count": 9,
     "metadata": {},
     "output_type": "execute_result"
    }
   ],
   "source": [
    "len(input)"
   ]
  },
  {
   "cell_type": "code",
   "execution_count": 13,
   "metadata": {},
   "outputs": [
    {
     "name": "stdout",
     "output_type": "stream",
     "text": [
      "win_roads_km_commuting - min: 0.0482993367024482, max: 0.327737593829499\n",
      "area_commuting - min: 0.10523792921204517, max: 0.33973575270117734\n",
      "length_km - min: -0.5025059780719392, max: -0.036144486295960676\n",
      "road_density - min: -0.504004970641339, max: -0.03218645942661038\n",
      "ndwi - min: -0.35362857335527004, max: 0.09706612809106765\n",
      "precistd - min: -0.31017950962006013, max: -0.0\n",
      "africa - min: -0.41604662207820586, max: 0.005415776552446945\n",
      "child_pop - min: -0.3086789521928439, max: 0.025773755286237685\n",
      "rwi - min: -0.5601211725958284, max: -0.0\n",
      "rwi_error - min: -0.4154656838745479, max: -0.0\n",
      "precipiacc - min: -0.3058565220804788, max: 0.06048499415490104\n",
      "cnfd - min: -0.42607685069296314, max: 0.0155663915144383\n",
      "accessibility - min: 0.10121579756428346, max: 0.33530344544907825\n",
      "accessibility_walking_only - min: 0.09942377256745918, max: 0.3132519168766838\n",
      "population - min: -0.31186446315880256, max: 0.03146244243918755\n",
      "M_0 - min: -0.30584687952805534, max: 0.02738139637291981\n",
      "M_1 - min: -0.3085564858402307, max: 0.027327618942775567\n",
      "M_5 - min: -0.3081625513971639, max: 0.024126379409109364\n",
      "M_10 - min: -0.30894852880704293, max: 0.022558006638162147\n",
      "M_15 - min: -0.31273810842264166, max: 0.02347170697908167\n",
      "M_30 - min: -0.306826866444762, max: 0.039122009294728484\n",
      "M_20 - min: -0.31182404008448106, max: 0.0360888686912636\n",
      "M_25 - min: -0.30898306142574605, max: 0.03810259443517949\n",
      "M_35 - min: -0.3073124030485629, max: 0.04098711806822814\n",
      "M_40 - min: -0.3119130244560137, max: 0.03913245228819479\n",
      "M_45 - min: -0.30218383051655756, max: 0.04088789479133467\n",
      "M_50 - min: -0.30959280801624095, max: 0.03360796880741861\n",
      "M_55 - min: -0.3038061028420542, max: 0.03584332667978099\n",
      "M_60 - min: -0.3091155170941315, max: 0.025509531815456184\n",
      "F_0 - min: -0.30154539792757434, max: 0.027350654363233917\n",
      "F_1 - min: -0.3040041211273861, max: 0.02772242673076152\n",
      "F_5 - min: -0.3033358654359284, max: 0.025718299301545268\n",
      "F_10 - min: -0.308096412046733, max: 0.02638493559665476\n",
      "F_15 - min: -0.3100033841786815, max: 0.02685149015207118\n",
      "F_25 - min: -0.30258748255346757, max: 0.03353028888982631\n",
      "F_60 - min: -0.3124250989080043, max: 0.023928163885450684\n",
      "F_65 - min: -0.30479405453900127, max: 0.03142222053763534\n",
      "F_70 - min: -0.31677246149596006, max: 0.023476069201593792\n",
      "F_80 - min: -0.3235454970837858, max: 0.016422412799905306\n",
      "no_built - min: -0.017524831038844915, max: 0.32361207307652\n"
     ]
    },
    {
     "data": {
      "text/plain": [
       "40"
      ]
     },
     "execution_count": 13,
     "metadata": {},
     "output_type": "execute_result"
    }
   ],
   "source": [
    "to_keep = []\n",
    "thr = 0.30\n",
    "for col in input:\n",
    "    values = corr_mat.loc[str(col)][dimensions]\n",
    "    mi, ma = values.min(), values.max()\n",
    "    if (mi < - thr) | (ma > thr):\n",
    "        print(f'{col} - min: {mi}, max: {ma}')\n",
    "        to_keep.append(col)\n",
    "len(to_keep)"
   ]
  },
  {
   "cell_type": "code",
   "execution_count": 31,
   "metadata": {},
   "outputs": [
    {
     "data": {
      "text/plain": [
       "<AxesSubplot:>"
      ]
     },
     "execution_count": 31,
     "metadata": {},
     "output_type": "execute_result"
    },
    {
     "data": {
      "image/png": "[encoded data removed]",
      "text/plain": [
       "<Figure size 560x800 with 2 Axes>"
      ]
     },
     "metadata": {},
     "output_type": "display_data"
    }
   ],
   "source": [
    "plt.figure(figsize=(7, 10), dpi=80)\n",
    "\n",
    "cmap = sns.diverging_palette(320, 40, sep=50, as_cmap=True)\n",
    "\n",
    "sns.heatmap(corr_mat.loc[to_keep][dimensions], cmap = cmap, vmin=-1, vmax=1, linewidths=0.5)"
   ]
  },
  {
   "cell_type": "code",
   "execution_count": 142,
   "metadata": {},
   "outputs": [
    {
     "data": {
      "text/plain": [
       "<AxesSubplot:>"
      ]
     },
     "execution_count": 142,
     "metadata": {},
     "output_type": "execute_result"
    },
    {
     "data": {
      "image/png": "[encoded data removed]",
      "text/plain": [
       "<Figure size 640x480 with 2 Axes>"
      ]
     },
     "metadata": {},
     "output_type": "display_data"
    }
   ],
   "source": [
    "sns.heatmap(corr_mat.loc[input][dimensions])"
   ]
  },
  {
   "cell_type": "code",
   "execution_count": 159,
   "metadata": {},
   "outputs": [
    {
     "data": {
      "text/plain": [
       "Index(['4_or_more_prev_neigh', '4_or_more_count_neigh', 'precipiacc', 'cnfd',\n",
       "       'accessibility', 'accessibility_walking_only', 'population', 'M_0',\n",
       "       'M_1', 'M_5', 'M_10', 'M_15', 'M_30', 'M_20', 'M_25', 'M_35', 'M_40',\n",
       "       'M_45', 'M_50', 'M_55', 'M_60', 'M_70', 'M_75', 'M_65', 'M_80', 'F_0',\n",
       "       'F_1', 'F_5', 'F_10', 'F_15', 'F_20', 'F_25', 'F_30', 'F_35', 'F_40',\n",
       "       'F_45', 'F_60', 'F_50', 'F_55', 'F_65', 'F_70', 'F_75', 'F_80',\n",
       "       'country_code', 'country', 'NR', 'CDMA', 'hex_code_str',\n",
       "       'water_surface', 'no_built', 'build_2000_2014', 'build_1990_2000',\n",
       "       'build_1975_1990', 'build_prior_1975', 'largest', 'sumpoor_count',\n",
       "       'dep_housing_count', 'dep_water_count', 'dep_sanitation_count',\n",
       "       'dep_nutrition_count', 'dep_health_count', 'dep_education_count',\n",
       "       'deprived_count', 'dep_2_or_more_count', 'dep_3_or_more_count',\n",
       "       'dep_4_or_more_count'],\n",
       "      dtype='object')"
      ]
     },
     "execution_count": 159,
     "metadata": {},
     "output_type": "execute_result"
    }
   ],
   "source": [
    "hexes_dhs.columns[100:]"
   ]
  },
  {
   "cell_type": "code",
   "execution_count": null,
   "metadata": {},
   "outputs": [],
   "source": []
  },
  {
   "cell_type": "code",
   "execution_count": null,
   "metadata": {},
   "outputs": [],
   "source": []
  },
  {
   "cell_type": "code",
   "execution_count": null,
   "metadata": {},
   "outputs": [],
   "source": []
  },
  {
   "cell_type": "markdown",
   "metadata": {},
   "source": [
    "# Missing values of dimensions"
   ]
  },
  {
   "cell_type": "markdown",
   "metadata": {},
   "source": [
    "## no neigh"
   ]
  },
  {
   "cell_type": "code",
   "execution_count": 52,
   "metadata": {},
   "outputs": [],
   "source": [
    "d = {}\n",
    "for col in dimensions:\n",
    "    col_count = re.sub('_sev', '_count', col)\n",
    "    num_no_na = hexes_dhs_no_neigh[(hexes_dhs_no_neigh[col].isna()==False) & (hexes_dhs_no_neigh[col_count]>30)].shape[0]\n",
    "    d[col] = num_no_na"
   ]
  },
  {
   "cell_type": "code",
   "execution_count": 60,
   "metadata": {},
   "outputs": [
    {
     "name": "stderr",
     "output_type": "stream",
     "text": [
      "/tmp/ipykernel_354/642795611.py:4: UserWarning: FixedFormatter should only be used together with FixedLocator\n",
      "  _ = ax.set_yticklabels(labels)\n"
     ]
    },
    {
     "data": {
      "image/png": "[encoded data removed]",
      "text/plain": [
       "<Figure size 640x480 with 1 Axes>"
      ]
     },
     "metadata": {},
     "output_type": "display_data"
    }
   ],
   "source": [
    "fig, ax = plt.subplots()# dpi=300)\n",
    "\n",
    "plt.barh(list(d.keys()), list(d.values()))\n",
    "_ = ax.set_yticklabels(labels)\n"
   ]
  },
  {
   "cell_type": "markdown",
   "metadata": {},
   "source": [
    "## neigh"
   ]
  },
  {
   "cell_type": "code",
   "execution_count": 66,
   "metadata": {},
   "outputs": [],
   "source": [
    "dimensions_neigh = ['sumpoor_prev_neigh',\n",
    "       'housing_prev_neigh','water_prev_neigh',\n",
    "       'sanitation_prev_neigh',\n",
    "       'nutrition_prev_neigh', 'health_prev_neigh',\n",
    "       'education_prev_neigh',\n",
    "       'deprived_sev_mean_neigh']"
   ]
  },
  {
   "cell_type": "code",
   "execution_count": 68,
   "metadata": {},
   "outputs": [],
   "source": [
    "d_neigh = {}\n",
    "for col in dimensions_neigh:\n",
    "    col_count = re.sub('(prev|mean)', 'count', col)\n",
    "    num_no_na = hexes_dhs[(hexes_dhs[col].isna()==False) & (hexes_dhs[col_count]>30)].shape[0]\n",
    "    d_neigh[col] = num_no_na"
   ]
  },
  {
   "cell_type": "code",
   "execution_count": 69,
   "metadata": {},
   "outputs": [
    {
     "name": "stderr",
     "output_type": "stream",
     "text": [
      "/tmp/ipykernel_354/608238936.py:4: UserWarning: FixedFormatter should only be used together with FixedLocator\n",
      "  _ = ax.set_yticklabels(labels)\n"
     ]
    },
    {
     "data": {
      "image/png": "[encoded data removed]",
      "text/plain": [
       "<Figure size 640x480 with 1 Axes>"
      ]
     },
     "metadata": {},
     "output_type": "display_data"
    }
   ],
   "source": [
    "fig, ax = plt.subplots()# dpi=300)\n",
    "\n",
    "plt.barh(list(d_neigh.keys()), list(d_neigh.values()))\n",
    "_ = ax.set_yticklabels(labels)\n"
   ]
  },
  {
   "cell_type": "code",
   "execution_count": null,
   "metadata": {},
   "outputs": [],
   "source": []
  }
 ],
 "metadata": {
  "kernelspec": {
   "display_name": "Python 3.9.0 ('dssg_prova_2')",
   "language": "python",
   "name": "python3"
  },
  "language_info": {
   "codemirror_mode": {
    "name": "ipython",
    "version": 3
   },
   "file_extension": ".py",
   "mimetype": "text/x-python",
   "name": "python",
   "nbconvert_exporter": "python",
   "pygments_lexer": "ipython3",
   "version": "3.9.0"
  },
  "orig_nbformat": 4,
  "vscode": {
   "interpreter": {
    "hash": "313026c4454b2964e01f0effca78562de6ab875f0de9f7646efebf9e975accb1"
   }
  }
 },
 "nbformat": 4,
 "nbformat_minor": 2
}
