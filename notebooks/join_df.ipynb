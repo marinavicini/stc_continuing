{
 "cells": [
  {
   "attachments": {},
   "cell_type": "markdown",
   "metadata": {},
   "source": [
    "The objective of this notebook is to join input data of multiple countries."
   ]
  },
  {
   "cell_type": "code",
   "execution_count": 1,
   "metadata": {},
   "outputs": [
    {
     "name": "stderr",
     "output_type": "stream",
     "text": [
      "<frozen importlib._bootstrap>:228: RuntimeWarning: scipy._lib.messagestream.MessageStream size changed, may indicate binary incompatibility. Expected 56 from C header, got 64 from PyObject\n",
      "/mnt/c/Users/vicin/Desktop/DSSG/Project/stc_continuing/src/stc_unicef_cpi/features/autoencoder_features.py:21: UserWarning: Necessary modules for autoencoder features not found - assumed not desired\n",
      "  warnings.warn(\n"
     ]
    }
   ],
   "source": [
    "import pandas as pd\n",
    "import h3.api.numpy_int as h3\n",
    "\n",
    "from tqdm import tqdm\n",
    "import re\n",
    "\n",
    "import stc_unicef_cpi.utils.constants as c\n",
    "import stc_unicef_cpi.utils.clean_text as ct\n",
    "\n",
    "tqdm.pandas()\n"
   ]
  },
  {
   "attachments": {},
   "cell_type": "markdown",
   "metadata": {},
   "source": [
    "# Join countries "
   ]
  },
  {
   "cell_type": "code",
   "execution_count": null,
   "metadata": {},
   "outputs": [],
   "source": [
    "read_path = '/mnt/c/Users/vicin/Desktop/DSSG/Project/stc_continuing/data/processed'"
   ]
  },
  {
   "cell_type": "code",
   "execution_count": null,
   "metadata": {},
   "outputs": [],
   "source": [
    "# specify dtypes \n",
    "dtypes ={'hex_code': int,\n",
    "        'name_commuting':str,\n",
    "        'geometry':str,  # come salvare geometry non lo so.\n",
    "        'built':str}\n",
    "\n",
    "dic_rename = {'gdp_ppp_1990':'GDP_PPP_1990', 'gdp_ppp_2000':'GDP_PPP_2000', 'gdp_ppp_2015':'GDP_PPP_2015',\n",
    "            'NDVI_mean':'ndvi', 'NDWI_mean':'ndwi', \n",
    "            'precipitation_mean':'precimean', 'precipitation_stdDev':'precistd',\n",
    "            'pr_mean':'precipiacc',\n",
    "            'aet_mean_x':'evapotrans'\n",
    "            }\n"
   ]
  },
  {
   "cell_type": "code",
   "execution_count": null,
   "metadata": {},
   "outputs": [],
   "source": [
    "joined = pd.DataFrame()\n",
    "for country in c.countries_ssf[0:len(c.countries_ssf)]:\n",
    "    # Get country code\n",
    "    country_code = ct.get_alpha3_code(country)\n",
    "    print(country_code)\n",
    "\n",
    "    # Upload input data for that country\n",
    "    data = pd.read_csv(read_path + f'/hexes_{country_code.upper()}_res7_thres30_all.csv',  dtype = dtypes)\n",
    "    \n",
    "    # Rename columns\n",
    "    data = data.rename(columns=dic_rename)\n",
    "    # Add country and country code column\n",
    "    data['country_code'] = country_code\n",
    "    data['country'] = country\n",
    "\n",
    "    joined = pd.concat([joined, data])\n"
   ]
  },
  {
   "attachments": {},
   "cell_type": "markdown",
   "metadata": {},
   "source": [
    "# Compute features\n",
    "Add child population, geometry, global human settlement ect"
   ]
  },
  {
   "cell_type": "code",
   "execution_count": null,
   "metadata": {},
   "outputs": [],
   "source": [
    "# child population\n",
    "joined['child_pop'] = joined[['M_0', 'M_1', 'M_5','M_10', 'F_0', 'F_1', 'F_5','F_10']].sum(axis=1) + 0.6 * joined[['M_15', 'F_15']].sum(axis=1)"
   ]
  },
  {
   "cell_type": "code",
   "execution_count": null,
   "metadata": {},
   "outputs": [],
   "source": [
    "# remove areas with no population \n",
    "joined = joined[joined['child_pop']>0].copy()\n",
    "print(joined.shape)"
   ]
  },
  {
   "cell_type": "code",
   "execution_count": null,
   "metadata": {},
   "outputs": [],
   "source": [
    "# hex centroid\n",
    "joined['hex_centroid'] = joined['hex_code'].progress_apply(lambda x: h3.h3_to_geo(x))\n",
    "joined['hex_code_str'] = joined['hex_code'].progress_apply(lambda x: h3.h3_to_string(x))\n",
    "joined['geometry'] = joined['hex_code'].progress_apply(lambda x: h3.h3_to_geo_boundary(x, geo_json=True))\n"
   ]
  },
  {
   "cell_type": "code",
   "execution_count": null,
   "metadata": {},
   "outputs": [],
   "source": [
    "# global human settlement \n",
    "# water surface\n",
    "joined['water_surface'] = joined['built'].apply(lambda x: int(bool(re.search('1', str(x)))))\n",
    "# Land no built-up in any epoch\n",
    "joined['no_built'] = joined['built'].apply(lambda x: int(bool(re.search('2', str(x)))))\n",
    "# Built-up from 2000 to 2014 epochs\n",
    "joined['build_2000_2014'] = joined['built'].apply(lambda x: int(bool(re.search('3', str(x)))))\n",
    "# Built-up from 1990 to 2000 epochs\n",
    "joined['build_1990_2000'] = joined['built'].apply(lambda x: int(bool(re.search('4', str(x)))))\n",
    "# Built-up from 1975 to 1990 epochs\n",
    "joined['build_1975_1990'] = joined['built'].apply(lambda x: int(bool(re.search('5', str(x)))))\n",
    "# built-up up to 1975 epoch\n",
    "joined['build_prior_1975'] = joined['built'].apply(lambda x: int(bool(re.search('6', str(x)))))"
   ]
  },
  {
   "cell_type": "code",
   "execution_count": null,
   "metadata": {},
   "outputs": [],
   "source": [
    "joined.drop(columns=['copland', 'built', 'aet_mean_y', 'lat', 'long'], inplace=True) # 'NR', 'CDMA',"
   ]
  },
  {
   "cell_type": "code",
   "execution_count": null,
   "metadata": {},
   "outputs": [],
   "source": [
    "print(joined.shape)\n",
    "# (4493068, 154)"
   ]
  },
  {
   "cell_type": "code",
   "execution_count": null,
   "metadata": {},
   "outputs": [],
   "source": [
    "# save file\n",
    "joined.to_csv(read_path + f'/20221021_hexes_ssf.csv', index=False)"
   ]
  }
 ],
 "metadata": {
  "kernelspec": {
   "display_name": "Python 3.9.0 ('dssg_prova_2')",
   "language": "python",
   "name": "python3"
  },
  "language_info": {
   "codemirror_mode": {
    "name": "ipython",
    "version": 3
   },
   "file_extension": ".py",
   "mimetype": "text/x-python",
   "name": "python",
   "nbconvert_exporter": "python",
   "pygments_lexer": "ipython3",
   "version": "3.9.0"
  },
  "orig_nbformat": 4,
  "vscode": {
   "interpreter": {
    "hash": "313026c4454b2964e01f0effca78562de6ab875f0de9f7646efebf9e975accb1"
   }
  }
 },
 "nbformat": 4,
 "nbformat_minor": 2
}
