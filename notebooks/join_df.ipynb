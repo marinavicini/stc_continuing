{
 "cells": [
  {
   "cell_type": "code",
   "execution_count": 1,
   "metadata": {},
   "outputs": [
    {
     "name": "stderr",
     "output_type": "stream",
     "text": [
      "<frozen importlib._bootstrap>:228: RuntimeWarning: scipy._lib.messagestream.MessageStream size changed, may indicate binary incompatibility. Expected 56 from C header, got 64 from PyObject\n",
      "/mnt/c/Users/vicin/Desktop/DSSG/Project/stc_continuing/src/stc_unicef_cpi/features/autoencoder_features.py:21: UserWarning: Necessary modules for autoencoder features not found - assumed not desired\n",
      "  warnings.warn(\n"
     ]
    }
   ],
   "source": [
    "import pandas as pd\n",
    "import numpy as np\n",
    "import h3.api.numpy_int as h3\n",
    "\n",
    "import matplotlib.pyplot as plt\n",
    "import cartopy.io.shapereader as shpreader\n",
    "import geopandas as gpd\n",
    "\n",
    "from tqdm import tqdm\n",
    "import seaborn as sns\n",
    "import re\n",
    "\n",
    "tqdm.pandas()\n",
    "\n",
    "import stc_unicef_cpi.data.get_satellite_data as ge\n",
    "import stc_unicef_cpi.data.make_dataset as md\n",
    "import stc_unicef_cpi.utils.general as g\n",
    "import stc_unicef_cpi.utils.constants as c\n",
    "\n",
    "import stc_unicef_cpi.utils.geospatial as geo\n",
    "import stc_unicef_cpi.utils.clean_text as ct"
   ]
  },
  {
   "cell_type": "markdown",
   "metadata": {},
   "source": [
    "# Join countries "
   ]
  },
  {
   "cell_type": "code",
   "execution_count": null,
   "metadata": {},
   "outputs": [],
   "source": [
    "read_path = '/mnt/c/Users/vicin/Desktop/DSSG/Project/stc_continuing/data/processed'"
   ]
  },
  {
   "cell_type": "code",
   "execution_count": null,
   "metadata": {},
   "outputs": [],
   "source": [
    "# specify dtypes \n",
    "dtypes ={'hex_code': int,\n",
    "        'name_commuting':str,\n",
    "        'geometry':str,  # come salvare geometry non lo so.\n",
    "        'built':str}\n",
    "\n",
    "dic_rename = {'gdp_ppp_1990':'GDP_PPP_1990', 'gdp_ppp_2000':'GDP_PPP_2000', 'gdp_ppp_2015':'GDP_PPP_2015',\n",
    "            'NDVI_mean':'ndvi', 'NDWI_mean':'ndwi', \n",
    "            'precipitation_mean':'precimean', 'precipitation_stdDev':'precistd',\n",
    "            'pr_mean':'precipiacc',\n",
    "            'aet_mean_x':'evapotrans'\n",
    "            }\n"
   ]
  },
  {
   "cell_type": "code",
   "execution_count": null,
   "metadata": {},
   "outputs": [],
   "source": [
    "joined = pd.DataFrame()\n",
    "for country in c.countries_ssf[0:24]:\n",
    "    country_code = ct.get_alpha3_code(country)\n",
    "    print(country_code)\n",
    "    # print(country_code)\n",
    "    # if country_code in ['COM', 'COD']:\n",
    "    #     data = pd.read_csv(read_path + f'/final/hexes_{country_code.upper()}_res7_thres30_all.csv',  dtype = dtypes)\n",
    "    # elif country_code in ['CIV', 'ZAF']:\n",
    "    #     data = pd.read_csv(read_path + f'/final/NO_DHS/hexes_{country_code.upper()}_res7_thres30_all.csv',  dtype = dtypes)\n",
    "    # else:\n",
    "    #     data = pd.read_csv(read_path + f'/joined/hexes_{country_code.upper()}_res7_thres30_all.csv',  dtype = dtypes)\n",
    "\n",
    "    data = pd.read_csv(read_path + f'/hexes_{country_code.upper()}_res7_thres30_all.csv',  dtype = dtypes)\n",
    "    \n",
    "    data = data.rename(columns=dic_rename)\n",
    "    data['country_code'] = country_code\n",
    "    data['country'] = country\n",
    "\n",
    "    joined = pd.concat([joined, data])\n",
    "\n",
    "joined.to_csv(read_path + f'hexes_0_24_res7_thres30_all.csv', index=False)"
   ]
  },
  {
   "cell_type": "code",
   "execution_count": null,
   "metadata": {},
   "outputs": [],
   "source": [
    "joined = pd.DataFrame()\n",
    "for country in c.countries_ssf[24:]:\n",
    "    country_code = ct.get_alpha3_code(country)\n",
    "    print(country_code)\n",
    "    # print(country_code)\n",
    "    # if country_code in ['COM', 'COD']:\n",
    "    #     data = pd.read_csv(read_path + f'/final/hexes_{country_code.upper()}_res7_thres30_all.csv',  dtype = dtypes)\n",
    "    # elif country_code in ['CIV', 'ZAF']:\n",
    "    #     data = pd.read_csv(read_path + f'/final/NO_DHS/hexes_{country_code.upper()}_res7_thres30_all.csv',  dtype = dtypes)\n",
    "    # else:\n",
    "    #     data = pd.read_csv(read_path + f'/joined/hexes_{country_code.upper()}_res7_thres30_all.csv',  dtype = dtypes)\n",
    "\n",
    "    data = pd.read_csv(read_path + f'/hexes_{country_code.upper()}_res7_thres30_all.csv',  dtype = dtypes)\n",
    "\n",
    "    data = data.rename(columns=dic_rename)\n",
    "    data['country_code'] = country_code\n",
    "    data['country'] = country\n",
    "\n",
    "    joined = pd.concat([joined, data])\n",
    "\n",
    "joined.to_csv(read_path + f'hexes_24_48_res7_thres30_all.csv', index=False)\n",
    "    \n"
   ]
  },
  {
   "cell_type": "markdown",
   "metadata": {},
   "source": [
    "# Join DF"
   ]
  },
  {
   "cell_type": "code",
   "execution_count": null,
   "metadata": {},
   "outputs": [],
   "source": [
    "joined_0_24 = pd.read_csv(read_path + f'hexes_0_24_res7_thres30_all.csv')\n",
    "joined_24_48 = pd.read_csv(read_path + f'hexes_24_48_res7_thres30_all.csv')"
   ]
  },
  {
   "cell_type": "code",
   "execution_count": null,
   "metadata": {},
   "outputs": [],
   "source": [
    "join = pd.concat([joined_0_24, joined_24_48])\n",
    "print(join.shape)"
   ]
  },
  {
   "cell_type": "code",
   "execution_count": null,
   "metadata": {},
   "outputs": [],
   "source": [
    "# child population\n",
    "join['child_pop'] = join[['M_0', 'M_1', 'M_5','M_10', 'F_0', 'F_1', 'F_5','F_10']].sum(axis=1) + 0.6 * join[['M_15', 'F_15']].sum(axis=1)"
   ]
  },
  {
   "cell_type": "code",
   "execution_count": null,
   "metadata": {},
   "outputs": [],
   "source": [
    "# remove areas with no population \n",
    "join = join[join['child_pop']>0].copy()\n",
    "print(join.shape)"
   ]
  },
  {
   "cell_type": "code",
   "execution_count": null,
   "metadata": {},
   "outputs": [],
   "source": [
    "# hex centroid\n",
    "join['hex_centroid'] = join['hex_code'].progress_apply(lambda x: h3.h3_to_geo(x))\n",
    "join['hex_code_str'] = join['hex_code'].progress_apply(lambda x: h3.h3_to_string(x))\n",
    "join['geometry'] = join['hex_code'].progress_apply(lambda x: h3.h3_to_geo_boundary(x, geo_json=True))\n"
   ]
  },
  {
   "cell_type": "code",
   "execution_count": null,
   "metadata": {},
   "outputs": [],
   "source": [
    "# global human settlement \n",
    "# water surface\n",
    "join['water_surface'] = join['built'].apply(lambda x: int(bool(re.search('1', str(x)))))\n",
    "# Land no built-up in any epoch\n",
    "join['no_built'] = join['built'].apply(lambda x: int(bool(re.search('2', str(x)))))\n",
    "# Built-up from 2000 to 2014 epochs\n",
    "join['build_2000_2014'] = join['built'].apply(lambda x: int(bool(re.search('3', str(x)))))\n",
    "# Built-up from 1990 to 2000 epochs\n",
    "join['build_1990_2000'] = join['built'].apply(lambda x: int(bool(re.search('4', str(x)))))\n",
    "# Built-up from 1975 to 1990 epochs\n",
    "join['build_1975_1990'] = join['built'].apply(lambda x: int(bool(re.search('5', str(x)))))\n",
    "# built-up up to 1975 epoch\n",
    "join['build_prior_1975'] = join['built'].apply(lambda x: int(bool(re.search('6', str(x)))))"
   ]
  },
  {
   "cell_type": "code",
   "execution_count": null,
   "metadata": {},
   "outputs": [],
   "source": [
    "join.drop(columns=['copland', 'built', 'aet_mean_y', 'lat', 'long'], inplace=True) # 'NR', 'CDMA',"
   ]
  },
  {
   "cell_type": "code",
   "execution_count": null,
   "metadata": {},
   "outputs": [],
   "source": [
    "print(join.shape)\n",
    "# (4493068, 154)"
   ]
  },
  {
   "cell_type": "code",
   "execution_count": null,
   "metadata": {},
   "outputs": [],
   "source": [
    "# join\n",
    "joined.to_csv(read_path + f'/20221021_hexes_ssf.csv', index=False)"
   ]
  }
 ],
 "metadata": {
  "kernelspec": {
   "display_name": "Python 3.9.0 ('dssg_prova_2')",
   "language": "python",
   "name": "python3"
  },
  "language_info": {
   "codemirror_mode": {
    "name": "ipython",
    "version": 3
   },
   "file_extension": ".py",
   "mimetype": "text/x-python",
   "name": "python",
   "nbconvert_exporter": "python",
   "pygments_lexer": "ipython3",
   "version": "3.9.0"
  },
  "orig_nbformat": 4,
  "vscode": {
   "interpreter": {
    "hash": "313026c4454b2964e01f0effca78562de6ab875f0de9f7646efebf9e975accb1"
   }
  }
 },
 "nbformat": 4,
 "nbformat_minor": 2
}
